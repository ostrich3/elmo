{
 "cells": [
  {
   "cell_type": "markdown",
   "metadata": {},
   "source": [
    "# Acquisition of the raw ultrasound image \n",
    "\n",
    "Taking advantage of a Vref/2 offset at the ADC level"
   ]
  },
  {
   "cell_type": "code",
   "execution_count": 1,
   "metadata": {
    "collapsed": false
   },
   "outputs": [],
   "source": [
    "import matplotlib.pyplot as plt\n",
    "import numpy as np\n",
    "from scipy import signal\n",
    "import scipy.signal.signaltools as sigtool\n",
    "from scipy.interpolate import griddata\n",
    "import math"
   ]
  },
  {
   "cell_type": "code",
   "execution_count": 2,
   "metadata": {
    "collapsed": true
   },
   "outputs": [],
   "source": [
    "def CreateSeries(File,FreqRef):\n",
    "\n",
    "    with open(File) as f:\n",
    "        content = f.readlines()\n",
    "    # you may also want to remove whitespace characters like `\\n` at the end of each line\n",
    "    V = [x.strip().split(\"\\t\")[1] for x in content] \n",
    "    V = np.array(V).astype(np.int)\n",
    "    t = [x.strip().split(\"\\t\")[0] for x in content]\n",
    "    t = np.array(t).astype(np.float)/FreqRef\n",
    "    MaxT = t[-1]*FreqRef\n",
    "\n",
    "    return t,V,MaxT\n",
    "\n",
    "\n",
    "ADC2_GPIO = [20,26,16,19,13,12, 7, 8,11]\n",
    "ADC2len = len(ADC2_GPIO)\n",
    "\n",
    "\n",
    "def GetV2(Volts):\n",
    "    Signal = []\n",
    "    GP = []\n",
    "    Clock = []\n",
    "    Map = np.zeros((len(V),ADC2len), dtype=np.int)\n",
    "    for i in range(len(Volts)):\n",
    "        val = V[i]\n",
    "        SignalZero = 0\n",
    "        for k in range(ADC2len):\n",
    "            Map[i][k] = (val & 2**k)/2**k\n",
    "        for k in range(ADC2len):\n",
    "            SignalZero += 2**k*((val & 2**ADC2_GPIO[k])/2**ADC2_GPIO[k])\n",
    "        Signal.append(SignalZero)\n",
    "        Clock.append(1*((val & 2**21)/2**21))\n",
    "        GP.append( 1*((val & 2**6)/2**6) )\n",
    "    return Signal,Map,GP,Clock"
   ]
  },
  {
   "cell_type": "code",
   "execution_count": 13,
   "metadata": {
    "collapsed": false
   },
   "outputs": [
    {
     "name": "stdout",
     "output_type": "stream",
     "text": [
      "8376740.0\n",
      "100000\n"
     ]
    }
   ],
   "source": [
    "t,V,MaxT = CreateSeries(\"data/TwentyTwo.data\",10000000)\n",
    "print MaxT\n",
    "print len(V)"
   ]
  },
  {
   "cell_type": "code",
   "execution_count": 18,
   "metadata": {
    "collapsed": false
   },
   "outputs": [],
   "source": [
    "M = GetV2(V)[0]\n",
    "GP = GetV2(V)[2]\n",
    "CLK = GetV2(V)[3]"
   ]
  },
  {
   "cell_type": "code",
   "execution_count": 32,
   "metadata": {
    "collapsed": false
   },
   "outputs": [
    {
     "data": {
      "image/png": "[encoded data removed]",
      "text/plain": [
       "<matplotlib.figure.Figure at 0x7f8312991b50>"
      ]
     },
     "metadata": {},
     "output_type": "display_data"
    }
   ],
   "source": [
    "plt.plot(M[15000:20000],\"b\")\n",
    "\n",
    "plt.show()\n",
    "# 5000 x 20"
   ]
  },
  {
   "cell_type": "code",
   "execution_count": 33,
   "metadata": {
    "collapsed": false
   },
   "outputs": [
    {
     "data": {
      "image/png": "[encoded data removed]",
      "text/plain": [
       "<matplotlib.figure.Figure at 0x7f831279dad0>"
      ]
     },
     "metadata": {},
     "output_type": "display_data"
    }
   ],
   "source": [
    "plt.plot(CLK[15000:20000],\"r\")\n",
    "plt.show()"
   ]
  },
  {
   "cell_type": "code",
   "execution_count": null,
   "metadata": {
    "collapsed": true
   },
   "outputs": [],
   "source": []
  }
 ],
 "metadata": {
  "kernelspec": {
   "display_name": "Python 2",
   "language": "python",
   "name": "python2"
  },
  "language_info": {
   "codemirror_mode": {
    "name": "ipython",
    "version": 2
   },
   "file_extension": ".py",
   "mimetype": "text/x-python",
   "name": "python",
   "nbconvert_exporter": "python",
   "pygments_lexer": "ipython2",
   "version": "2.7.12"
  }
 },
 "nbformat": 4,
 "nbformat_minor": 2
}
